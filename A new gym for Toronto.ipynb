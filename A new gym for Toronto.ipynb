{
    "cells": [
        {
            "cell_type": "markdown",
            "metadata": {
                "collapsed": true
            },
            "source": "# A new gym for Toronto"
        },
        {
            "cell_type": "markdown",
            "metadata": {},
            "source": "## Background\n\nThe following notebook is based around the question, in which neighbourhood in Toronto one would want to open a new gym. The subject targets individual business people, who would like to own their own company and decided to establish a sports venue and also gym chains, which want to open a new venue in a neighbourhood without a gym. "
        },
        {
            "cell_type": "markdown",
            "metadata": {},
            "source": "## Data\n\nFor this project, I will use, inter alia, data from a Wikipedia page, which presents a list of all postal codes with their boroughs and neighbourhoods. Please find a link here below: \n'https://web.archive.org/web/20200303121502/https://en.wikipedia.org/wiki/List_of_postal_codes_of_Canada:_M' \n\nAdditionally, for the purpose of locating the different postcode areas, I will use the gespatial data of Toronto provided on the Coursera website, which was used in the previous segmentation and clustering assignment. Finally, to find out which neighbourhood best fits our purpose, I will use Foursquare data for the different neighbourhoods to see which venues correlate with the existence of a gym in an area."
        },
        {
            "cell_type": "markdown",
            "metadata": {},
            "source": "## Methodological Section"
        },
        {
            "cell_type": "markdown",
            "metadata": {},
            "source": "#### Import libraries"
        },
        {
            "cell_type": "code",
            "execution_count": 65,
            "metadata": {},
            "outputs": [],
            "source": "import pandas as pd\nimport numpy as np\n\n# library to open URLs\nimport urllib.request\n\n#library for parsing HTML and XML documents\nfrom bs4 import BeautifulSoup\n\n#!conda install -c conda-forge folium=0.5.0 --yes # install folium package to visualize map\nimport folium # map rendering library\n\nfrom geopy.geocoders import Nominatim # convert an address into latitude and longitude values\n\nimport requests # to create requests from Foursquare database\n\nfrom sklearn.metrics import r2_score # for regression model evaluation\nfrom sklearn.preprocessing import PolynomialFeatures\nfrom sklearn import linear_model"
        },
        {
            "cell_type": "markdown",
            "metadata": {},
            "source": "#### Import data from wikipedia page"
        },
        {
            "cell_type": "code",
            "execution_count": 66,
            "metadata": {},
            "outputs": [],
            "source": "# define URL of the page we want to scrap\nurl = 'https://web.archive.org/web/20200303121502/https://en.wikipedia.org/wiki/List_of_postal_codes_of_Canada:_M'\n        \n# Open URL using urllib.request and put the HTML into the page variable\nwiki_page = urllib.request.urlopen(url)\n\n# Parse the HTML from the URL into the BeautifulSoup parse tree format\nsoup = BeautifulSoup(wiki_page,'lxml' )\n\n# find the right table in the HTML code\ntable = soup.find('table', class_ =\"wikitable sortable\" )"
        },
        {
            "cell_type": "markdown",
            "metadata": {},
            "source": "#### Create a dataframe with the information from the wikipadia page"
        },
        {
            "cell_type": "code",
            "execution_count": 67,
            "metadata": {},
            "outputs": [
                {
                    "data": {
                        "text/html": "<div>\n<style scoped>\n    .dataframe tbody tr th:only-of-type {\n        vertical-align: middle;\n    }\n\n    .dataframe tbody tr th {\n        vertical-align: top;\n    }\n\n    .dataframe thead th {\n        text-align: right;\n    }\n</style>\n<table border=\"1\" class=\"dataframe\">\n  <thead>\n    <tr style=\"text-align: right;\">\n      <th></th>\n      <th>Postcode</th>\n      <th>Borough</th>\n      <th>Neighbourhood</th>\n    </tr>\n  </thead>\n  <tbody>\n    <tr>\n      <th>0</th>\n      <td>M1A</td>\n      <td>Not assigned</td>\n      <td>Not assigned</td>\n    </tr>\n    <tr>\n      <th>1</th>\n      <td>M2A</td>\n      <td>Not assigned</td>\n      <td>Not assigned</td>\n    </tr>\n    <tr>\n      <th>2</th>\n      <td>M3A</td>\n      <td>North York</td>\n      <td>Parkwoods</td>\n    </tr>\n    <tr>\n      <th>3</th>\n      <td>M4A</td>\n      <td>North York</td>\n      <td>Victoria Village</td>\n    </tr>\n    <tr>\n      <th>4</th>\n      <td>M5A</td>\n      <td>Downtown Toronto</td>\n      <td>Harbourfront</td>\n    </tr>\n  </tbody>\n</table>\n</div>",
                        "text/plain": "  Postcode           Borough     Neighbourhood\n0      M1A      Not assigned     Not assigned\n\n1      M2A      Not assigned     Not assigned\n\n2      M3A        North York         Parkwoods\n3      M4A        North York  Victoria Village\n4      M5A  Downtown Toronto      Harbourfront"
                    },
                    "execution_count": 67,
                    "metadata": {},
                    "output_type": "execute_result"
                }
            ],
            "source": "# define empty lists for the 3 columns \nA=[]\nB=[]\nC=[]\n\n# iterate through the rows to extract the information for the different postcodes\n# find row start by searching for \"tr\"\nfor row in table.findAll('tr'): \n    # find column start and end by searching for \"td\"\n    cells = row.findAll('td')\n    # fill in the column lists, when information for 3 columns received\n    if len(cells)==3:\n        A.append(cells[0].find(text=True))\n        B.append(cells[1].find(text=True))\n        C.append(cells[2].find(text=True))\n        \n# put all 3 column lists to one dataframe\ndf = pd.DataFrame(A, columns=['Postcode'])\ndf['Borough'] = B\ndf['Neighbourhood'] = C\ndf.head()"
        },
        {
            "cell_type": "markdown",
            "metadata": {},
            "source": "#### Data wrangling"
        },
        {
            "cell_type": "code",
            "execution_count": 68,
            "metadata": {},
            "outputs": [
                {
                    "data": {
                        "text/html": "<div>\n<style scoped>\n    .dataframe tbody tr th:only-of-type {\n        vertical-align: middle;\n    }\n\n    .dataframe tbody tr th {\n        vertical-align: top;\n    }\n\n    .dataframe thead th {\n        text-align: right;\n    }\n</style>\n<table border=\"1\" class=\"dataframe\">\n  <thead>\n    <tr style=\"text-align: right;\">\n      <th></th>\n      <th>Postcode</th>\n      <th>Borough</th>\n      <th>Neighbourhood</th>\n      <th>Latitude</th>\n      <th>Longitude</th>\n    </tr>\n  </thead>\n  <tbody>\n    <tr>\n      <th>0</th>\n      <td>M3A</td>\n      <td>North York</td>\n      <td>Parkwoods</td>\n      <td>43.753259</td>\n      <td>-79.329656</td>\n    </tr>\n    <tr>\n      <th>1</th>\n      <td>M4A</td>\n      <td>North York</td>\n      <td>Victoria Village</td>\n      <td>43.725882</td>\n      <td>-79.315572</td>\n    </tr>\n    <tr>\n      <th>2</th>\n      <td>M5A</td>\n      <td>Downtown Toronto</td>\n      <td>Harbourfront</td>\n      <td>43.654260</td>\n      <td>-79.360636</td>\n    </tr>\n    <tr>\n      <th>3</th>\n      <td>M6A</td>\n      <td>North York</td>\n      <td>Lawrence Manor, Lawrence Heights</td>\n      <td>43.718518</td>\n      <td>-79.464763</td>\n    </tr>\n    <tr>\n      <th>4</th>\n      <td>M7A</td>\n      <td>Downtown Toronto</td>\n      <td>Queen's Park</td>\n      <td>43.662301</td>\n      <td>-79.389494</td>\n    </tr>\n  </tbody>\n</table>\n</div>",
                        "text/plain": "  Postcode           Borough                     Neighbourhood   Latitude  \\\n0      M3A        North York                         Parkwoods  43.753259   \n1      M4A        North York                  Victoria Village  43.725882   \n2      M5A  Downtown Toronto                      Harbourfront  43.654260   \n3      M6A        North York  Lawrence Manor, Lawrence Heights  43.718518   \n4      M7A  Downtown Toronto                      Queen's Park  43.662301   \n\n   Longitude  \n0 -79.329656  \n1 -79.315572  \n2 -79.360636  \n3 -79.464763  \n4 -79.389494  "
                    },
                    "execution_count": 68,
                    "metadata": {},
                    "output_type": "execute_result"
                }
            ],
            "source": "# only display Boroughs, which are assigned\ndf = df[df['Borough'] != 'Not assigned']\n\n#reset index for future use\ndf.reset_index(drop=True, inplace=True)\n\n# Group the neighbourhoods with the same postcode and write them in one cell\n# define n as the number of the last index to be able to iterate from the back\nn = df['Postcode'].count() -1\n\n# interate from the back with a for loop\nfor postcode in range(n):\n    \n    # check whether the postcode is the same as the one above\n    if df['Postcode'][n] == df['Postcode'][n-1]:\n        \n        # if the postcodes are the same, define the Neighbourhood, which is above, as both Neighbourhoods seperated by a comma\n        df['Neighbourhood'][n-1] = df['Neighbourhood'][n] + \", \" + df['Neighbourhood'][n-1] \n        \n        # drop the line below to prevent duplicates \n        df.drop(n, inplace=True)\n    n = n-1\n    \n\n# add geospatial data to the dataframe    \n# read the csv file with the geospatial data\ngeo = pd.read_csv('http://cocl.us/Geospatial_data')\n\n# rename the column for the Postcode for merging purposes\ngeo.rename(columns={'Postal Code': 'Postcode'}, inplace=True) \ngeo.head()\n\n# merge the two dataframe on the Postcode\ndf_geo = pd.merge(df,geo,how='inner', on='Postcode')\ndf_geo.head()"
        },
        {
            "cell_type": "markdown",
            "metadata": {},
            "source": "#### Import Foursquare data"
        },
        {
            "cell_type": "code",
            "execution_count": 69,
            "metadata": {},
            "outputs": [],
            "source": "# The code was removed by Watson Studio for sharing."
        },
        {
            "cell_type": "code",
            "execution_count": 70,
            "metadata": {},
            "outputs": [],
            "source": "# create function to iterate through the dataframe and create requests of the venues in the neighbourhoods\nLIMIT = 100\n\ndef getNearbyVenues(names, latitudes, longitudes, radius=500):\n    \n    venues_list=[]\n    for name, lat, lng in zip(names, latitudes, longitudes):\n            \n        # create the API request URL\n        url = 'https://api.foursquare.com/v2/venues/explore?&client_id={}&client_secret={}&v={}&ll={},{}&radius={}&limit={}'.format(\n            CLIENT_ID, \n            CLIENT_SECRET, \n            VERSION, \n            lat, \n            lng, \n            radius, \n            LIMIT)\n            \n        # make the GET request\n        results = requests.get(url).json()[\"response\"]['groups'][0]['items']\n        \n        # return only relevant information for each nearby venue\n        venues_list.append([(\n            name, \n            lat, \n            lng, \n            v['venue']['name'], \n            v['venue']['location']['lat'], \n            v['venue']['location']['lng'],  \n            v['venue']['categories'][0]['name']) for v in results])\n        \n    nearby_venues = pd.DataFrame([item for venue_list in venues_list for item in venue_list])\n    nearby_venues.columns = ['Neighbourhood', \n                  'Postcode Latitude', \n                  'Postcode Longitude', \n                  'Venue', \n                  'Venue Latitude', \n                  'Venue Longitude', \n                  'Venue Category']\n    \n    return(nearby_venues)"
        },
        {
            "cell_type": "code",
            "execution_count": 71,
            "metadata": {},
            "outputs": [
                {
                    "data": {
                        "text/plain": "(2197, 7)"
                    },
                    "execution_count": 71,
                    "metadata": {},
                    "output_type": "execute_result"
                }
            ],
            "source": "# run function for each postcode\n\ntoronto_venues = getNearbyVenues(names=df_geo['Neighbourhood'],\n                                   latitudes=df_geo['Latitude'],\n                                   longitudes=df_geo['Longitude']\n                                  )\ntoronto_venues.shape"
        },
        {
            "cell_type": "code",
            "execution_count": 72,
            "metadata": {},
            "outputs": [
                {
                    "data": {
                        "text/plain": "array(['Gym', 'Gym / Fitness Center', 'Climbing Gym', 'College Gym'],\n      dtype=object)"
                    },
                    "execution_count": 72,
                    "metadata": {},
                    "output_type": "execute_result"
                }
            ],
            "source": "# find out which different names are associated with the venue 'gym'\n\ndf_gym = toronto_venues[toronto_venues['Venue Category'].str.contains('Gym')]\ndf_gym['Venue Category'].unique()"
        },
        {
            "cell_type": "markdown",
            "metadata": {},
            "source": "#### Prepare the dataframe for our use"
        },
        {
            "cell_type": "code",
            "execution_count": 73,
            "metadata": {},
            "outputs": [
                {
                    "data": {
                        "text/html": "<div>\n<style scoped>\n    .dataframe tbody tr th:only-of-type {\n        vertical-align: middle;\n    }\n\n    .dataframe tbody tr th {\n        vertical-align: top;\n    }\n\n    .dataframe thead th {\n        text-align: right;\n    }\n</style>\n<table border=\"1\" class=\"dataframe\">\n  <thead>\n    <tr style=\"text-align: right;\">\n      <th></th>\n      <th>Neighbourhood</th>\n      <th>Accessories Store</th>\n      <th>Afghan Restaurant</th>\n      <th>Airport</th>\n      <th>Airport Food Court</th>\n      <th>Airport Gate</th>\n      <th>Airport Lounge</th>\n      <th>Airport Service</th>\n      <th>Airport Terminal</th>\n      <th>American Restaurant</th>\n      <th>...</th>\n      <th>Vegetarian / Vegan Restaurant</th>\n      <th>Video Game Store</th>\n      <th>Video Store</th>\n      <th>Vietnamese Restaurant</th>\n      <th>Warehouse Store</th>\n      <th>Wine Bar</th>\n      <th>Wine Shop</th>\n      <th>Wings Joint</th>\n      <th>Women's Store</th>\n      <th>Yoga Studio</th>\n    </tr>\n  </thead>\n  <tbody>\n    <tr>\n      <th>0</th>\n      <td>Agincourt</td>\n      <td>0</td>\n      <td>0</td>\n      <td>0</td>\n      <td>0</td>\n      <td>0</td>\n      <td>0</td>\n      <td>0</td>\n      <td>0</td>\n      <td>0</td>\n      <td>...</td>\n      <td>0</td>\n      <td>0</td>\n      <td>0</td>\n      <td>0</td>\n      <td>0</td>\n      <td>0</td>\n      <td>0</td>\n      <td>0</td>\n      <td>0</td>\n      <td>0</td>\n    </tr>\n    <tr>\n      <th>1</th>\n      <td>Bayview Village</td>\n      <td>0</td>\n      <td>0</td>\n      <td>0</td>\n      <td>0</td>\n      <td>0</td>\n      <td>0</td>\n      <td>0</td>\n      <td>0</td>\n      <td>0</td>\n      <td>...</td>\n      <td>0</td>\n      <td>0</td>\n      <td>0</td>\n      <td>0</td>\n      <td>0</td>\n      <td>0</td>\n      <td>0</td>\n      <td>0</td>\n      <td>0</td>\n      <td>0</td>\n    </tr>\n    <tr>\n      <th>2</th>\n      <td>Berczy Park</td>\n      <td>0</td>\n      <td>0</td>\n      <td>0</td>\n      <td>0</td>\n      <td>0</td>\n      <td>0</td>\n      <td>0</td>\n      <td>0</td>\n      <td>0</td>\n      <td>...</td>\n      <td>1</td>\n      <td>0</td>\n      <td>0</td>\n      <td>0</td>\n      <td>0</td>\n      <td>0</td>\n      <td>0</td>\n      <td>0</td>\n      <td>0</td>\n      <td>0</td>\n    </tr>\n    <tr>\n      <th>3</th>\n      <td>Business Reply Mail Processing Centre 969 East...</td>\n      <td>0</td>\n      <td>0</td>\n      <td>0</td>\n      <td>0</td>\n      <td>0</td>\n      <td>0</td>\n      <td>0</td>\n      <td>0</td>\n      <td>0</td>\n      <td>...</td>\n      <td>0</td>\n      <td>0</td>\n      <td>0</td>\n      <td>0</td>\n      <td>0</td>\n      <td>0</td>\n      <td>0</td>\n      <td>0</td>\n      <td>0</td>\n      <td>0</td>\n    </tr>\n    <tr>\n      <th>4</th>\n      <td>Caledonia-Fairbanks</td>\n      <td>0</td>\n      <td>0</td>\n      <td>0</td>\n      <td>0</td>\n      <td>0</td>\n      <td>0</td>\n      <td>0</td>\n      <td>0</td>\n      <td>0</td>\n      <td>...</td>\n      <td>0</td>\n      <td>0</td>\n      <td>0</td>\n      <td>0</td>\n      <td>0</td>\n      <td>0</td>\n      <td>0</td>\n      <td>0</td>\n      <td>1</td>\n      <td>0</td>\n    </tr>\n  </tbody>\n</table>\n<p>5 rows \u00d7 271 columns</p>\n</div>",
                        "text/plain": "                                       Neighbourhood  Accessories Store  \\\n0                                          Agincourt                  0   \n1                                    Bayview Village                  0   \n2                                        Berczy Park                  0   \n3  Business Reply Mail Processing Centre 969 East...                  0   \n4                               Caledonia-Fairbanks\n                  0   \n\n   Afghan Restaurant  Airport  Airport Food Court  Airport Gate  \\\n0                  0        0                   0             0   \n1                  0        0                   0             0   \n2                  0        0                   0             0   \n3                  0        0                   0             0   \n4                  0        0                   0             0   \n\n   Airport Lounge  Airport Service  Airport Terminal  American Restaurant  \\\n0               0                0                 0                    0   \n1               0                0                 0                    0   \n2               0                0                 0                    0   \n3               0                0                 0                    0   \n4               0                0                 0                    0   \n\n   ...  Vegetarian / Vegan Restaurant  Video Game Store  Video Store  \\\n0  ...                              0                 0            0   \n1  ...                              0                 0            0   \n2  ...                              1                 0            0   \n3  ...                              0                 0            0   \n4  ...                              0                 0            0   \n\n   Vietnamese Restaurant  Warehouse Store  Wine Bar  Wine Shop  Wings Joint  \\\n0                      0                0         0          0            0   \n1                      0                0         0          0            0   \n2                      0                0         0          0            0   \n3                      0                0         0          0            0   \n4                      0                0         0          0            0   \n\n   Women's Store  Yoga Studio  \n0              0            0  \n1              0            0  \n2              0            0  \n3              0            0  \n4              1            0  \n\n[5 rows x 271 columns]"
                    },
                    "execution_count": 73,
                    "metadata": {},
                    "output_type": "execute_result"
                }
            ],
            "source": "# create dummies for the existence of a venue for each neighbourhood\n\ntoronto_dummies = pd.get_dummies(toronto_venues[['Venue Category']], prefix=\"\", prefix_sep=\"\")\n\n# add neighborhood column back to dataframe\ntoronto_dummies['Neighbourhood'] = toronto_venues['Neighbourhood']\n\n# move neighbourhood column to the first column\nfixed_columns = [toronto_dummies.columns[-1]] + list(toronto_dummies.columns[:-1])\ntoronto_dummies = toronto_dummies[fixed_columns]\n\n# group rows by neighbourhood and calculate the mean of the frequency of occurrence of each category\ntoronto_grouped = toronto_dummies.groupby('Neighbourhood').sum().reset_index()\ntoronto_grouped.head()"
        },
        {
            "cell_type": "code",
            "execution_count": 74,
            "metadata": {},
            "outputs": [
                {
                    "data": {
                        "text/html": "<div>\n<style scoped>\n    .dataframe tbody tr th:only-of-type {\n        vertical-align: middle;\n    }\n\n    .dataframe tbody tr th {\n        vertical-align: top;\n    }\n\n    .dataframe thead th {\n        text-align: right;\n    }\n</style>\n<table border=\"1\" class=\"dataframe\">\n  <thead>\n    <tr style=\"text-align: right;\">\n      <th></th>\n      <th>Neighbourhood</th>\n      <th>Accessories Store</th>\n      <th>Afghan Restaurant</th>\n      <th>Airport</th>\n      <th>Airport Food Court</th>\n      <th>Airport Gate</th>\n      <th>Airport Lounge</th>\n      <th>Airport Service</th>\n      <th>Airport Terminal</th>\n      <th>American Restaurant</th>\n      <th>...</th>\n      <th>Video Game Store</th>\n      <th>Video Store</th>\n      <th>Vietnamese Restaurant</th>\n      <th>Warehouse Store</th>\n      <th>Wine Bar</th>\n      <th>Wine Shop</th>\n      <th>Wings Joint</th>\n      <th>Women's Store</th>\n      <th>Yoga Studio</th>\n      <th>Gym_all</th>\n    </tr>\n  </thead>\n  <tbody>\n    <tr>\n      <th>0</th>\n      <td>Agincourt</td>\n      <td>0</td>\n      <td>0</td>\n      <td>0</td>\n      <td>0</td>\n      <td>0</td>\n      <td>0</td>\n      <td>0</td>\n      <td>0</td>\n      <td>0</td>\n      <td>...</td>\n      <td>0</td>\n      <td>0</td>\n      <td>0</td>\n      <td>0</td>\n      <td>0</td>\n      <td>0</td>\n      <td>0</td>\n      <td>0</td>\n      <td>0</td>\n      <td>0</td>\n    </tr>\n    <tr>\n      <th>1</th>\n      <td>Bayview Village</td>\n      <td>0</td>\n      <td>0</td>\n      <td>0</td>\n      <td>0</td>\n      <td>0</td>\n      <td>0</td>\n      <td>0</td>\n      <td>0</td>\n      <td>0</td>\n      <td>...</td>\n      <td>0</td>\n      <td>0</td>\n      <td>0</td>\n      <td>0</td>\n      <td>0</td>\n      <td>0</td>\n      <td>0</td>\n      <td>0</td>\n      <td>0</td>\n      <td>0</td>\n    </tr>\n    <tr>\n      <th>2</th>\n      <td>Berczy Park</td>\n      <td>0</td>\n      <td>0</td>\n      <td>0</td>\n      <td>0</td>\n      <td>0</td>\n      <td>0</td>\n      <td>0</td>\n      <td>0</td>\n      <td>0</td>\n      <td>...</td>\n      <td>0</td>\n      <td>0</td>\n      <td>0</td>\n      <td>0</td>\n      <td>0</td>\n      <td>0</td>\n      <td>0</td>\n      <td>0</td>\n      <td>0</td>\n      <td>0</td>\n    </tr>\n    <tr>\n      <th>3</th>\n      <td>Business Reply Mail Processing Centre 969 East...</td>\n      <td>0</td>\n      <td>0</td>\n      <td>0</td>\n      <td>0</td>\n      <td>0</td>\n      <td>0</td>\n      <td>0</td>\n      <td>0</td>\n      <td>0</td>\n      <td>...</td>\n      <td>0</td>\n      <td>0</td>\n      <td>0</td>\n      <td>0</td>\n      <td>0</td>\n      <td>0</td>\n      <td>0</td>\n      <td>0</td>\n      <td>0</td>\n      <td>1</td>\n    </tr>\n    <tr>\n      <th>4</th>\n      <td>Caledonia-Fairbanks</td>\n      <td>0</td>\n      <td>0</td>\n      <td>0</td>\n      <td>0</td>\n      <td>0</td>\n      <td>0</td>\n      <td>0</td>\n      <td>0</td>\n      <td>0</td>\n      <td>...</td>\n      <td>0</td>\n      <td>0</td>\n      <td>0</td>\n      <td>0</td>\n      <td>0</td>\n      <td>0</td>\n      <td>0</td>\n      <td>1</td>\n      <td>0</td>\n      <td>0</td>\n    </tr>\n  </tbody>\n</table>\n<p>5 rows \u00d7 272 columns</p>\n</div>",
                        "text/plain": "                                       Neighbourhood  Accessories Store  \\\n0                                          Agincourt                  0   \n1                                    Bayview Village                  0   \n2                                        Berczy Park                  0   \n3  Business Reply Mail Processing Centre 969 East...                  0   \n4                               Caledonia-Fairbanks\n                  0   \n\n   Afghan Restaurant  Airport  Airport Food Court  Airport Gate  \\\n0                  0        0                   0             0   \n1                  0        0                   0             0   \n2                  0        0                   0             0   \n3                  0        0                   0             0   \n4                  0        0                   0             0   \n\n   Airport Lounge  Airport Service  Airport Terminal  American Restaurant  \\\n0               0                0                 0                    0   \n1               0                0                 0                    0   \n2               0                0                 0                    0   \n3               0                0                 0                    0   \n4               0                0                 0                    0   \n\n   ...  Video Game Store  Video Store  Vietnamese Restaurant  Warehouse Store  \\\n0  ...                 0            0                      0                0   \n1  ...                 0            0                      0                0   \n2  ...                 0            0                      0                0   \n3  ...                 0            0                      0                0   \n4  ...                 0            0                      0                0   \n\n   Wine Bar  Wine Shop  Wings Joint  Women's Store  Yoga Studio  Gym_all  \n0         0          0            0              0            0        0  \n1         0          0            0              0            0        0  \n2         0          0            0              0            0        0  \n3         0          0            0              0            0        1  \n4         0          0            0              1            0        0  \n\n[5 rows x 272 columns]"
                    },
                    "execution_count": 74,
                    "metadata": {},
                    "output_type": "execute_result"
                }
            ],
            "source": "# aggregate the 4 different types of gyms to one column\n\ntoronto_grouped['Gym_all'] = toronto_grouped[['Gym', 'Gym / Fitness Center', 'Climbing Gym', 'College Gym']].sum(axis=1)\ntoronto_grouped.head()"
        },
        {
            "cell_type": "code",
            "execution_count": 75,
            "metadata": {},
            "outputs": [
                {
                    "data": {
                        "text/html": "<div>\n<style scoped>\n    .dataframe tbody tr th:only-of-type {\n        vertical-align: middle;\n    }\n\n    .dataframe tbody tr th {\n        vertical-align: top;\n    }\n\n    .dataframe thead th {\n        text-align: right;\n    }\n</style>\n<table border=\"1\" class=\"dataframe\">\n  <thead>\n    <tr style=\"text-align: right;\">\n      <th></th>\n      <th>Neighbourhood</th>\n      <th>Accessories Store</th>\n      <th>Afghan Restaurant</th>\n      <th>Airport</th>\n      <th>Airport Food Court</th>\n      <th>Airport Gate</th>\n      <th>Airport Lounge</th>\n      <th>Airport Service</th>\n      <th>Airport Terminal</th>\n      <th>American Restaurant</th>\n      <th>...</th>\n      <th>Video Game Store</th>\n      <th>Video Store</th>\n      <th>Vietnamese Restaurant</th>\n      <th>Warehouse Store</th>\n      <th>Wine Bar</th>\n      <th>Wine Shop</th>\n      <th>Wings Joint</th>\n      <th>Women's Store</th>\n      <th>Yoga Studio</th>\n      <th>Gym</th>\n    </tr>\n  </thead>\n  <tbody>\n    <tr>\n      <th>0</th>\n      <td>Agincourt</td>\n      <td>0</td>\n      <td>0</td>\n      <td>0</td>\n      <td>0</td>\n      <td>0</td>\n      <td>0</td>\n      <td>0</td>\n      <td>0</td>\n      <td>0</td>\n      <td>...</td>\n      <td>0</td>\n      <td>0</td>\n      <td>0</td>\n      <td>0</td>\n      <td>0</td>\n      <td>0</td>\n      <td>0</td>\n      <td>0</td>\n      <td>0</td>\n      <td>0</td>\n    </tr>\n    <tr>\n      <th>1</th>\n      <td>Bayview Village</td>\n      <td>0</td>\n      <td>0</td>\n      <td>0</td>\n      <td>0</td>\n      <td>0</td>\n      <td>0</td>\n      <td>0</td>\n      <td>0</td>\n      <td>0</td>\n      <td>...</td>\n      <td>0</td>\n      <td>0</td>\n      <td>0</td>\n      <td>0</td>\n      <td>0</td>\n      <td>0</td>\n      <td>0</td>\n      <td>0</td>\n      <td>0</td>\n      <td>0</td>\n    </tr>\n    <tr>\n      <th>2</th>\n      <td>Berczy Park</td>\n      <td>0</td>\n      <td>0</td>\n      <td>0</td>\n      <td>0</td>\n      <td>0</td>\n      <td>0</td>\n      <td>0</td>\n      <td>0</td>\n      <td>0</td>\n      <td>...</td>\n      <td>0</td>\n      <td>0</td>\n      <td>0</td>\n      <td>0</td>\n      <td>0</td>\n      <td>0</td>\n      <td>0</td>\n      <td>0</td>\n      <td>0</td>\n      <td>0</td>\n    </tr>\n    <tr>\n      <th>3</th>\n      <td>Business Reply Mail Processing Centre 969 East...</td>\n      <td>0</td>\n      <td>0</td>\n      <td>0</td>\n      <td>0</td>\n      <td>0</td>\n      <td>0</td>\n      <td>0</td>\n      <td>0</td>\n      <td>0</td>\n      <td>...</td>\n      <td>0</td>\n      <td>0</td>\n      <td>0</td>\n      <td>0</td>\n      <td>0</td>\n      <td>0</td>\n      <td>0</td>\n      <td>0</td>\n      <td>0</td>\n      <td>1</td>\n    </tr>\n    <tr>\n      <th>4</th>\n      <td>Caledonia-Fairbanks</td>\n      <td>0</td>\n      <td>0</td>\n      <td>0</td>\n      <td>0</td>\n      <td>0</td>\n      <td>0</td>\n      <td>0</td>\n      <td>0</td>\n      <td>0</td>\n      <td>...</td>\n      <td>0</td>\n      <td>0</td>\n      <td>0</td>\n      <td>0</td>\n      <td>0</td>\n      <td>0</td>\n      <td>0</td>\n      <td>1</td>\n      <td>0</td>\n      <td>0</td>\n    </tr>\n  </tbody>\n</table>\n<p>5 rows \u00d7 268 columns</p>\n</div>",
                        "text/plain": "                                       Neighbourhood  Accessories Store  \\\n0                                          Agincourt                  0   \n1                                    Bayview Village                  0   \n2                                        Berczy Park                  0   \n3  Business Reply Mail Processing Centre 969 East...                  0   \n4                               Caledonia-Fairbanks\n                  0   \n\n   Afghan Restaurant  Airport  Airport Food Court  Airport Gate  \\\n0                  0        0                   0             0   \n1                  0        0                   0             0   \n2                  0        0                   0             0   \n3                  0        0                   0             0   \n4                  0        0                   0             0   \n\n   Airport Lounge  Airport Service  Airport Terminal  American Restaurant  \\\n0               0                0                 0                    0   \n1               0                0                 0                    0   \n2               0                0                 0                    0   \n3               0                0                 0                    0   \n4               0                0                 0                    0   \n\n   ...  Video Game Store  Video Store  Vietnamese Restaurant  Warehouse Store  \\\n0  ...                 0            0                      0                0   \n1  ...                 0            0                      0                0   \n2  ...                 0            0                      0                0   \n3  ...                 0            0                      0                0   \n4  ...                 0            0                      0                0   \n\n   Wine Bar  Wine Shop  Wings Joint  Women's Store  Yoga Studio  Gym  \n0         0          0            0              0            0    0  \n1         0          0            0              0            0    0  \n2         0          0            0              0            0    0  \n3         0          0            0              0            0    1  \n4         0          0            0              1            0    0  \n\n[5 rows x 268 columns]"
                    },
                    "execution_count": 75,
                    "metadata": {},
                    "output_type": "execute_result"
                }
            ],
            "source": "# drop the individual gym columns\ntoronto_grouped.drop(['Gym', 'Gym / Fitness Center', 'Climbing Gym', 'College Gym'], axis=1, inplace=True)\ntoronto_grouped.rename(columns={'Gym_all':'Gym'}, inplace=True)\ntoronto_grouped.head()"
        },
        {
            "cell_type": "markdown",
            "metadata": {},
            "source": "##### Separating the data into 2 dataframes, one with all neighbourhoods, where gyms exist (for training the regression model) and one with all neighbourhoods without a gym (to find out in which neighbourhood, we should place our gym"
        },
        {
            "cell_type": "code",
            "execution_count": 76,
            "metadata": {},
            "outputs": [
                {
                    "data": {
                        "text/plain": "(29, 268)"
                    },
                    "execution_count": 76,
                    "metadata": {},
                    "output_type": "execute_result"
                }
            ],
            "source": "toronto_gym = toronto_grouped[toronto_grouped['Gym'] > 0]\ntoronto_gym.shape"
        },
        {
            "cell_type": "code",
            "execution_count": 77,
            "metadata": {},
            "outputs": [
                {
                    "data": {
                        "text/plain": "(69, 268)"
                    },
                    "execution_count": 77,
                    "metadata": {},
                    "output_type": "execute_result"
                }
            ],
            "source": "toronto_nogym = toronto_grouped[toronto_grouped['Gym'] == 0]\ntoronto_nogym.shape"
        },
        {
            "cell_type": "markdown",
            "metadata": {},
            "source": "#### Data Analysis"
        },
        {
            "cell_type": "code",
            "execution_count": 165,
            "metadata": {},
            "outputs": [],
            "source": "# train / test split\nmsk = np.random.rand(len(toronto_gym)) < 0.8\ntrain = toronto_gym[msk]\ntest = toronto_gym[~msk]\n\nX_train = train[train.columns[1:267]]\ny_train = train['Gym']\nX_test = test[test.columns[1:267]]\ny_test = test['Gym']"
        },
        {
            "cell_type": "code",
            "execution_count": 166,
            "metadata": {},
            "outputs": [],
            "source": "# train the model\n\npoly = PolynomialFeatures(degree=2)\nX_train_poly = poly.fit_transform(X_train)\nclf = linear_model.LinearRegression()\ny_train = clf.fit(X_train_poly, y_train)"
        },
        {
            "cell_type": "code",
            "execution_count": 167,
            "metadata": {},
            "outputs": [],
            "source": "from sklearn.metrics import r2_score"
        },
        {
            "cell_type": "code",
            "execution_count": 168,
            "metadata": {},
            "outputs": [
                {
                    "name": "stdout",
                    "output_type": "stream",
                    "text": "R2-score: 0.93\n"
                }
            ],
            "source": "# Evaluation\nX_test_poly = poly.fit_transform(X_test)\ny_test_ = clf.predict(X_test_poly)\nprint(\"R2-score: %.2f\" % r2_score(y_test_ , y_test) )"
        },
        {
            "cell_type": "markdown",
            "metadata": {},
            "source": "##### Application of the model to the dataframe without gyms"
        },
        {
            "cell_type": "code",
            "execution_count": 169,
            "metadata": {},
            "outputs": [
                {
                    "name": "stderr",
                    "output_type": "stream",
                    "text": "/opt/conda/envs/Python36/lib/python3.6/site-packages/ipykernel/__main__.py:2: SettingWithCopyWarning: \nA value is trying to be set on a copy of a slice from a DataFrame.\nTry using .loc[row_indexer,col_indexer] = value instead\n\nSee the caveats in the documentation: http://pandas.pydata.org/pandas-docs/stable/indexing.html#indexing-view-versus-copy\n  from ipykernel import kernelapp as app\n/opt/conda/envs/Python36/lib/python3.6/site-packages/ipykernel/__main__.py:4: SettingWithCopyWarning: \nA value is trying to be set on a copy of a slice from a DataFrame\n\nSee the caveats in the documentation: http://pandas.pydata.org/pandas-docs/stable/indexing.html#indexing-view-versus-copy\n"
                },
                {
                    "data": {
                        "text/html": "<div>\n<style scoped>\n    .dataframe tbody tr th:only-of-type {\n        vertical-align: middle;\n    }\n\n    .dataframe tbody tr th {\n        vertical-align: top;\n    }\n\n    .dataframe thead th {\n        text-align: right;\n    }\n</style>\n<table border=\"1\" class=\"dataframe\">\n  <thead>\n    <tr style=\"text-align: right;\">\n      <th></th>\n      <th>Neighbourhood</th>\n      <th>Gym prediction</th>\n    </tr>\n  </thead>\n  <tbody>\n    <tr>\n      <th>63</th>\n      <td>St. James Town, Cabbagetown</td>\n      <td>1.943281</td>\n    </tr>\n    <tr>\n      <th>45</th>\n      <td>Oriole\\n, Henry Farm, Fairview\\n</td>\n      <td>1.840421</td>\n    </tr>\n    <tr>\n      <th>31</th>\n      <td>Kensington Market, Grange Park, Chinatown</td>\n      <td>1.754246</td>\n    </tr>\n    <tr>\n      <th>78</th>\n      <td>Trinity, Little Portugal</td>\n      <td>1.637965</td>\n    </tr>\n    <tr>\n      <th>24</th>\n      <td>Harbourfront</td>\n      <td>1.565063</td>\n    </tr>\n  </tbody>\n</table>\n</div>",
                        "text/plain": "                                Neighbourhood  Gym prediction\n63                St. James Town, Cabbagetown        1.943281\n45           Oriole\\n, Henry Farm, Fairview\\n        1.840421\n31  Kensington Market, Grange Park, Chinatown        1.754246\n78                   Trinity, Little Portugal        1.637965\n24                               Harbourfront        1.565063"
                    },
                    "execution_count": 169,
                    "metadata": {},
                    "output_type": "execute_result"
                }
            ],
            "source": "Nogym_poly = poly.fit_transform(toronto_nogym[toronto_nogym.columns[1:267]])\ntoronto_nogym['Gym prediction'] = clf.predict(Nogym_poly)\ntoronto_gymprediction = toronto_nogym[['Neighbourhood', 'Gym prediction']]\ntoronto_gymprediction.sort_values('Gym prediction', ascending=False, inplace=True)\ntoronto_top5 = toronto_gymprediction[0:5]\ntoronto_top5"
        },
        {
            "cell_type": "markdown",
            "metadata": {},
            "source": "##### Visualization of the 5 neighbourhoods "
        },
        {
            "cell_type": "code",
            "execution_count": 170,
            "metadata": {},
            "outputs": [
                {
                    "data": {
                        "text/html": "<div>\n<style scoped>\n    .dataframe tbody tr th:only-of-type {\n        vertical-align: middle;\n    }\n\n    .dataframe tbody tr th {\n        vertical-align: top;\n    }\n\n    .dataframe thead th {\n        text-align: right;\n    }\n</style>\n<table border=\"1\" class=\"dataframe\">\n  <thead>\n    <tr style=\"text-align: right;\">\n      <th></th>\n      <th>Neighbourhood</th>\n      <th>Gym prediction</th>\n      <th>Postcode</th>\n      <th>Borough</th>\n      <th>Latitude</th>\n      <th>Longitude</th>\n    </tr>\n  </thead>\n  <tbody>\n    <tr>\n      <th>0</th>\n      <td>St. James Town, Cabbagetown</td>\n      <td>1.943281</td>\n      <td>M4X</td>\n      <td>Downtown Toronto</td>\n      <td>43.667967</td>\n      <td>-79.367675</td>\n    </tr>\n    <tr>\n      <th>1</th>\n      <td>Oriole\\n, Henry Farm, Fairview\\n</td>\n      <td>1.840421</td>\n      <td>M2J</td>\n      <td>North York</td>\n      <td>43.778517</td>\n      <td>-79.346556</td>\n    </tr>\n    <tr>\n      <th>2</th>\n      <td>Kensington Market, Grange Park, Chinatown</td>\n      <td>1.754246</td>\n      <td>M5T</td>\n      <td>Downtown Toronto</td>\n      <td>43.653206</td>\n      <td>-79.400049</td>\n    </tr>\n    <tr>\n      <th>3</th>\n      <td>Trinity, Little Portugal</td>\n      <td>1.637965</td>\n      <td>M6J</td>\n      <td>West Toronto</td>\n      <td>43.647927</td>\n      <td>-79.419750</td>\n    </tr>\n    <tr>\n      <th>4</th>\n      <td>Harbourfront</td>\n      <td>1.565063</td>\n      <td>M5A</td>\n      <td>Downtown Toronto</td>\n      <td>43.654260</td>\n      <td>-79.360636</td>\n    </tr>\n  </tbody>\n</table>\n</div>",
                        "text/plain": "                               Neighbourhood  Gym prediction Postcode  \\\n0                St. James Town, Cabbagetown        1.943281      M4X   \n1           Oriole\\n, Henry Farm, Fairview\\n        1.840421      M2J   \n2  Kensington Market, Grange Park, Chinatown        1.754246      M5T   \n3                   Trinity, Little Portugal        1.637965      M6J   \n4                               Harbourfront        1.565063      M5A   \n\n            Borough   Latitude  Longitude  \n0  Downtown Toronto  43.667967 -79.367675  \n1        North York  43.778517 -79.346556  \n2  Downtown Toronto  43.653206 -79.400049  \n3      West Toronto  43.647927 -79.419750  \n4  Downtown Toronto  43.654260 -79.360636  "
                    },
                    "execution_count": 170,
                    "metadata": {},
                    "output_type": "execute_result"
                }
            ],
            "source": "# Get the latitude and longitude from the df_geo dataframe\n# merge the two dataframe on the Neighbourhood name\nresult = pd.merge(toronto_top5,df_geo,how='inner', on='Neighbourhood')\nresult"
        },
        {
            "cell_type": "code",
            "execution_count": 171,
            "metadata": {},
            "outputs": [
                {
                    "data": {
                        "text/html": "<div style=\"width:100%;\"><div style=\"position:relative;width:100%;height:0;padding-bottom:60%;\"><iframe src=\"about:blank\" style=\"position:absolute;width:100%;height:100%;left:0;top:0;border:none !important;\" data-html=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 onload=\"this.contentDocument.open();this.contentDocument.write(atob(this.getAttribute('data-html')));this.contentDocument.close();\" allowfullscreen webkitallowfullscreen mozallowfullscreen></iframe></div></div>",
                        "text/plain": "<folium.folium.Map at 0x7f64bfc277b8>"
                    },
                    "execution_count": 171,
                    "metadata": {},
                    "output_type": "execute_result"
                }
            ],
            "source": "# create map of Toronto using latitude and longitude values\nmap_toronto = folium.Map(location=[43.653963, -79.387207], zoom_start=11)\n\n# add markers to map\nfor lati, long, label in zip(result['Latitude'], result['Longitude'], result['Neighbourhood']):\n    label = folium.Popup(label, parse_html=True)\n    folium.CircleMarker(\n        [lati, long],\n        radius=5,\n        popup=label,\n        color='blue',\n        fill=True,\n        fill_color='#3186cc',\n        fill_opacity=0.7,\n        parse_html=False).add_to(map_toronto)  \n    \nmap_toronto"
        },
        {
            "cell_type": "code",
            "execution_count": null,
            "metadata": {},
            "outputs": [],
            "source": ""
        }
    ],
    "metadata": {
        "kernelspec": {
            "display_name": "Python 3.6",
            "language": "python",
            "name": "python3"
        },
        "language_info": {
            "codemirror_mode": {
                "name": "ipython",
                "version": 3
            },
            "file_extension": ".py",
            "mimetype": "text/x-python",
            "name": "python",
            "nbconvert_exporter": "python",
            "pygments_lexer": "ipython3",
            "version": "3.6.9"
        }
    },
    "nbformat": 4,
    "nbformat_minor": 1
}